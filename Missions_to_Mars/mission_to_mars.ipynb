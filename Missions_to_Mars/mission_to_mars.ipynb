{
 "cells": [
  {
   "cell_type": "markdown",
   "metadata": {},
   "source": [
    "## NASA Mars News"
   ]
  },
  {
   "cell_type": "code",
   "execution_count": 269,
   "metadata": {},
   "outputs": [],
   "source": [
    "# Import dependencies\n",
    "import pandas as pd\n",
    "from splinter import Browser\n",
    "from bs4 import BeautifulSoup\n",
    "from webdriver_manager.chrome import ChromeDriverManager"
   ]
  },
  {
   "cell_type": "code",
   "execution_count": 270,
   "metadata": {},
   "outputs": [
    {
     "name": "stderr",
     "output_type": "stream",
     "text": [
      "\n",
      "\n",
      "====== WebDriver manager ======\n",
      "Current google-chrome version is 90.0.4430\n",
      "Get LATEST driver version for 90.0.4430\n",
      "Driver [/Users/michellesimek/.wdm/drivers/chromedriver/mac64/90.0.4430.24/chromedriver] found in cache\n"
     ]
    }
   ],
   "source": [
    "executable_path = {'executable_path': ChromeDriverManager().install()}\n",
    "browser = Browser('chrome', **executable_path, headless=False)"
   ]
  },
  {
   "cell_type": "code",
   "execution_count": 271,
   "metadata": {},
   "outputs": [],
   "source": [
    "# url to website\n",
    "url = \"https://mars.nasa.gov/news/?page=0&per_page=40&order=publish_date+desc%2Ccreated_at+desc&search=&category=19%2C165%2C184%2C204&blank_scope=Latest\"\n",
    "browser.visit(url)"
   ]
  },
  {
   "cell_type": "code",
   "execution_count": 272,
   "metadata": {},
   "outputs": [
    {
     "name": "stdout",
     "output_type": "stream",
     "text": [
      "NASA's Ingenuity Mars Helicopter Completes First One-Way Trip  \n",
      "The Red Planet rotorcraft headed south in support of furthering research into the potential use of aerial scouts on Mars in the future.\n",
      "------\n",
      "NASA's Perseverance Captures Video, Audio of Fourth Ingenuity Flight\n",
      "Sounds of the Mars Helicopter’s whirring rotors add another new dimension to the historic project.\n",
      "------\n",
      "NASA's Ingenuity Helicopter to Begin New Demonstration Phase\n",
      "The Red Planet rotorcraft will shift focus from proving flight is possible on Mars to demonstrating flight operations that future aerial craft could utilize.\n",
      "------\n",
      "NASA Sets Briefing to Discuss Ingenuity Mars Helicopter Next Steps\n",
      "With three successful flights in the logbook, Ingenuity has demonstrated it is ready for more.\n",
      "\n",
      "\n",
      "------\n",
      "With Goals Met, NASA to Push Envelope With Ingenuity Mars Helicopter\n",
      "With three successful flights in the logbook, Ingenuity has demonstrated it is ready for more.\n",
      "------\n",
      "NASA's Ingenuity Mars Helicopter Flies Faster, Farther on Third Flight\n",
      "The craft’s April 25 flight was conducted at speeds and distances beyond what had ever been previously demonstrated, even in testing on Earth.\n",
      "------\n",
      "NASA's Ingenuity Mars Helicopter Logs Second Successful Flight\n",
      "The small rotorcraft’s horizons were expanded on its second flight. \n",
      "------\n",
      "NASA's Perseverance Mars Rover Extracts First Oxygen From Red Planet\n",
      "The milestone, which the MOXIE instrument achieved by converting carbon dioxide into oxygen, points the way to future human exploration of the Red Planet. \n",
      "------\n",
      "NASA's Ingenuity Mars Helicopter Succeeds in Historic First Flight\n",
      "The small rotorcraft made history, hovering above Jezero Crater, demonstrating that powered, controlled flight on another planet is possible.\n",
      "------\n",
      "NASA to Attempt First Controlled Flight on Mars As Soon As Monday\n",
      "A livestream will begin at 3:15 a.m. PDT that morning as the helicopter team prepares to receive the data downlink at NASA’s Jet Propulsion Laboratory.\n",
      "------\n",
      "NASA's Mars Helicopter to Make First Flight Attempt\n",
      "The small rotorcraft’s “Wright brothers moment” is two Mars days away.\n",
      "------\n",
      "Webinars--Taking Flight: How Girls Can Grow up to Be Engineers \n",
      "Do you like solving problems, working with other people, and making a difference? Consider a career in engineering!\n",
      "------\n",
      "Say Cheese on Mars: Perseverance's Selfie With Ingenuity\n",
      "NASA’s newest Mars rover used a camera on the end of its robotic arm to snap this shot of itself with the Ingenuity helicopter nearby.\n",
      "------\n",
      "NASA's Odyssey Orbiter Marks 20 Historic Years of Mapping Mars \n",
      "For two decades, the longest-lived spacecraft at the Red Planet has helped locate water ice, assess landing sites, and study the planet’s mysterious moons.\n",
      "\n",
      "------\n",
      "NASA Invites Public to Take Flight With Ingenuity Mars Helicopter \n",
      "The helicopter is scheduled to lift off close to the end of the day on April 11.\n",
      "------\n",
      "NASA's First Weather Report From Jezero Crater on Mars\n",
      "Perseverance’s MEDA will help us understand how to prepare astronauts for a future on the Red Planet.\n",
      "------\n",
      "NASA's Curiosity Team Names Martian Hill That Serves as Mission ‘Gateway'\n",
      "The name honors recently deceased mission scientist Rafael Navarro-González, who helped lead the team that identified ancient organic compounds on Mars\n",
      "------\n",
      "NASA's Mars Helicopter Survives First Cold Martian Night on Its Own\n",
      "NASA’s Ingenuity helicopter can be seen on Mars as viewed by the Perseverance rover’s rear Hazard Camera on April 4, 2021, the 44th Martian day, or sol of the mission.\n",
      "------\n",
      "NASA's InSight Detects Two Sizable Quakes on Mars\n",
      "The magnitude 3.3 and 3.1 temblors originated in a region called Cerberus Fossae, further supporting the idea that this location is seismically active.\n",
      "------\n",
      "Sensors Collect Crucial Data on Mars Landings With Arrival of Perseverance \n",
      "MEDLI2 was one of the crucial technologies onboard the rover’s protective aeroshell that helped document the entry, descent, and landing of the spacecraft. \n",
      "------\n",
      "NASA's Curiosity Mars Rover Takes Selfie With 'Mont Mercou'\n",
      "The rover also snapped a pair of panoramas to create a 3D view of the stark cliff face featured in the selfie.\n",
      "------\n",
      "NASA Ingenuity Mars Helicopter Prepares for First Flight\n",
      "Now uncocooned from its protective carbon-fiber shield, the helicopter is being readied for its next steps.  \n",
      "------\n",
      "Another First: Perseverance Captures the Sounds of Driving on Mars\n",
      "NASA’s newest rover recorded audio of itself crunching over the surface of the Red Planet, adding a whole new dimension to Mars exploration.\n",
      "------\n",
      "NASA to Host Briefing to Preview First Mars Helicopter Flights\n",
      "Members of the projects will lay out the steps necessary before the helicopter attempts its historic test flights. \n",
      "------\n",
      "New Study Challenges Long-Held Theory of Fate of Mars' Water\n",
      "The new science results indicate that a large quantity of the Red Planet’s water is trapped in its crust rather than having escaped into space.\n",
      "------\n",
      "NASA's Perseverance Mars Rover Mission Honors Navajo Language\n",
      "Working with the Navajo Nation, the rover team has named features on Mars with words from the Navajo language.\n",
      "------\n",
      "Perseverance Rover's SuperCam Science Instrument Delivers First Results\n",
      "Data from the powerful science tool includes sounds of its laser zapping a rock in order to test what it’s made of.\n",
      "------\n",
      "NASA's Perseverance Drives on Mars' Terrain for First Time\n",
      "The first trek of the agency’s largest, most advanced rover yet on the Red Planet marks a major milestone before science operations get under way.\n",
      "------\n",
      "Media Telecon Materials - March 5, 2021\n",
      "Mission team members are participating in a virtual teleconference to discuss milestones achieved so far since the Feb. 18 landing and those to come.\n",
      "------\n",
      "NASA Awards Mars Ascent Propulsion System Contract for Sample Return\n",
      "The award moves NASA and ESA a step closer to realizing Mars Sample Return, an ambitious planetary exploration program that will build upon decades of science, knowledge, and experience.\n",
      "------\n",
      "NASA to Provide Update on Perseverance ‘Firsts' Since Mars Landing \n",
      "Mission team members are participating in a virtual teleconference to discuss milestones achieved so far since the Feb. 18 landing and those to come.\n",
      "------\n",
      "Testing Proves Its Worth With Successful Mars Parachute Deployment\n",
      "The giant canopy that helped land Perseverance on Mars was tested here on Earth at NASA’s Wallops Flight Facility in Virginia.\n",
      "------\n",
      "NASA's Perseverance Rover Gives High-Definition Panoramic View of Landing Site\n",
      "A 360-degree panorama taken by the rover’s Mastcam-Z instrument will be discussed during a public video chat this Thursday.\n",
      "------\n",
      "Nearly 11 Million Names of Earthlings are on Mars Perseverance\n",
      "When the Perseverance rover safely touched down on the Martian surface, inside Jezero Crater, on Feb. 18, 2021, it was also a safe landing for the nearly 11 million names on board.\n",
      "------\n",
      "NASA's Mars Perseverance Rover Provides Front-Row Seat to Landing, First Audio Recording of Red Planet \n",
      "The agency’s newest rover captured first-of-its kind footage of its Feb. 18 touchdown and has recorded audio of Martian wind.\n",
      "\n",
      "\n",
      "------\n",
      "NASA to Reveal New Video, Images From Mars Perseverance Rover\n",
      "First-of-its kind footage from the agency’s newest rover will be presented during a briefing this morning.\n",
      "------\n",
      "NASA's Mars Helicopter Reports In \n",
      "The technology demonstration has phoned home from where it is attached to the belly of NASA’s Perseverance rover. \n",
      "------\n",
      "NASA's Perseverance Rover Sends Sneak Peek of Mars Landing\n",
      "The six-wheeled robot’s latest data since touching down yesterday include a hi-res image captured as the rover’s jetpack lowered it to the ground.\n",
      "------\n",
      "Touchdown! NASA's Mars Perseverance Rover Safely Lands on Red Planet\n",
      "The agency’s latest and most complex mission to the Red Planet has touched down at Jezero Crater. Now it’s time to begin testing the health of the rover.  \n",
      "------\n",
      "Searching for Life in NASA's Perseverance Mars Samples\n",
      "When the agency’s newest rover mission searches for fossilized microscopic life on the Red Planet, how will scientists know whether they’ve found it?\n",
      "------\n"
     ]
    }
   ],
   "source": [
    "# Scrape the NASA Mars News Site and collect the latest News Title and Paragraph Text. Assign the text to variables that you can reference later.\n",
    "html = browser.html\n",
    "soup = BeautifulSoup(html, 'html.parser')\n",
    "\n",
    "articles = soup.find_all(\"div\", class_='list_text')\n",
    "\n",
    "for article in articles:\n",
    "    news_title = article.find('div', class_='content_title')\n",
    "    paragraph = article.find('div', class_='article_teaser_body')\n",
    "    print(news_title.text)\n",
    "    print(paragraph.text)\n",
    "    print(\"------\")"
   ]
  },
  {
   "cell_type": "markdown",
   "metadata": {},
   "source": [
    "## JPL Mars Space Images - Featured Image"
   ]
  },
  {
   "cell_type": "code",
   "execution_count": 273,
   "metadata": {},
   "outputs": [],
   "source": [
    "url = \"https://spaceimages-mars.com/\"\n",
    "browser.visit(url)"
   ]
  },
  {
   "cell_type": "code",
   "execution_count": 274,
   "metadata": {},
   "outputs": [
    {
     "data": {
      "text/plain": [
       "'https://spaceimages-mars.com/image/featured/mars3.jpg'"
      ]
     },
     "execution_count": 274,
     "metadata": {},
     "output_type": "execute_result"
    }
   ],
   "source": [
    "# Use splinter to navigate the site and find the image url for the current Featured Mars Image and assign the url string to a variable called featured_image_url.\n",
    "html = browser.html\n",
    "soup = BeautifulSoup(html, 'html.parser')\n",
    "\n",
    "featured_image = soup.find(\"div\", class_='floating_text_area')\n",
    "\n",
    "featured_image_url = featured_image.find('a', class_='showimg fancybox-thumbs')['href']\n",
    "featured_image_url = url + featured_image_url\n",
    "featured_image_url"
   ]
  },
  {
   "cell_type": "markdown",
   "metadata": {},
   "source": [
    "## Mars Facts"
   ]
  },
  {
   "cell_type": "code",
   "execution_count": 275,
   "metadata": {},
   "outputs": [
    {
     "data": {
      "text/plain": [
       "[                      0                              1\n",
       " 0  Equatorial Diameter:                       6,792 km\n",
       " 1       Polar Diameter:                       6,752 km\n",
       " 2                 Mass:  6.39 × 10^23 kg (0.11 Earths)\n",
       " 3                Moons:            2 (Phobos & Deimos)\n",
       " 4       Orbit Distance:       227,943,824 km (1.38 AU)\n",
       " 5         Orbit Period:           687 days (1.9 years)\n",
       " 6  Surface Temperature:                   -87 to -5 °C\n",
       " 7         First Record:              2nd millennium BC\n",
       " 8          Recorded By:           Egyptian astronomers,\n",
       "   Mars - Earth Comparison             Mars            Earth\n",
       " 0               Diameter:         6,779 km        12,742 km\n",
       " 1                   Mass:  6.39 × 10^23 kg  5.97 × 10^24 kg\n",
       " 2                  Moons:                2                1\n",
       " 3      Distance from Sun:   227,943,824 km   149,598,262 km\n",
       " 4         Length of Year:   687 Earth days      365.24 days\n",
       " 5            Temperature:     -87 to -5 °C      -88 to 58°C,\n",
       "                       0                              1\n",
       " 0  Equatorial Diameter:                       6,792 km\n",
       " 1       Polar Diameter:                       6,752 km\n",
       " 2                 Mass:  6.39 × 10^23 kg (0.11 Earths)\n",
       " 3                Moons:            2 (Phobos & Deimos)\n",
       " 4       Orbit Distance:       227,943,824 km (1.38 AU)\n",
       " 5         Orbit Period:           687 days (1.9 years)\n",
       " 6  Surface Temperature:                   -87 to -5 °C\n",
       " 7         First Record:              2nd millennium BC\n",
       " 8          Recorded By:           Egyptian astronomers]"
      ]
     },
     "execution_count": 275,
     "metadata": {},
     "output_type": "execute_result"
    }
   ],
   "source": [
    "# Use Pandas to scrape the table containing facts about the planet including Diameter, Mass, etc.\n",
    "url = 'https://space-facts.com/mars/'\n",
    "browser.visit(url)\n",
    "\n",
    "tables = pd.read_html(url)\n",
    "tables"
   ]
  },
  {
   "cell_type": "code",
   "execution_count": 276,
   "metadata": {},
   "outputs": [
    {
     "data": {
      "text/plain": [
       "'<table border=\"1\" class=\"dataframe\">\\n  <thead>\\n    <tr style=\"text-align: right;\">\\n      <th></th>\\n      <th></th>\\n    </tr>\\n    <tr>\\n      <th>Description</th>\\n      <th></th>\\n    </tr>\\n  </thead>\\n  <tbody>\\n    <tr>\\n      <th>Equatorial Diameter:</th>\\n      <td>6,792 km</td>\\n    </tr>\\n    <tr>\\n      <th>Polar Diameter:</th>\\n      <td>6,752 km</td>\\n    </tr>\\n    <tr>\\n      <th>Mass:</th>\\n      <td>6.39 × 10^23 kg (0.11 Earths)</td>\\n    </tr>\\n    <tr>\\n      <th>Moons:</th>\\n      <td>2 (Phobos &amp; Deimos)</td>\\n    </tr>\\n    <tr>\\n      <th>Orbit Distance:</th>\\n      <td>227,943,824 km (1.38 AU)</td>\\n    </tr>\\n    <tr>\\n      <th>Orbit Period:</th>\\n      <td>687 days (1.9 years)</td>\\n    </tr>\\n    <tr>\\n      <th>Surface Temperature:</th>\\n      <td>-87 to -5 °C</td>\\n    </tr>\\n    <tr>\\n      <th>First Record:</th>\\n      <td>2nd millennium BC</td>\\n    </tr>\\n    <tr>\\n      <th>Recorded By:</th>\\n      <td>Egyptian astronomers</td>\\n    </tr>\\n  </tbody>\\n</table>'"
      ]
     },
     "execution_count": 276,
     "metadata": {},
     "output_type": "execute_result"
    }
   ],
   "source": [
    "mars_table = tables[0]\n",
    "mars_table = mars_table.rename(columns={0:\"Description\", 1: \"\"})\n",
    "mars_table = mars_table.set_index(\"Description\")\n",
    "mars_table_html = mars_table.to_html()\n",
    "mars_table_html"
   ]
  },
  {
   "cell_type": "code",
   "execution_count": 277,
   "metadata": {},
   "outputs": [
    {
     "data": {
      "text/plain": [
       "'<table border=\"1\" class=\"dataframe\">  <thead>    <tr style=\"text-align: right;\">      <th></th>      <th></th>    </tr>    <tr>      <th>Description</th>      <th></th>    </tr>  </thead>  <tbody>    <tr>      <th>Equatorial Diameter:</th>      <td>6,792 km</td>    </tr>    <tr>      <th>Polar Diameter:</th>      <td>6,752 km</td>    </tr>    <tr>      <th>Mass:</th>      <td>6.39 × 10^23 kg (0.11 Earths)</td>    </tr>    <tr>      <th>Moons:</th>      <td>2 (Phobos &amp; Deimos)</td>    </tr>    <tr>      <th>Orbit Distance:</th>      <td>227,943,824 km (1.38 AU)</td>    </tr>    <tr>      <th>Orbit Period:</th>      <td>687 days (1.9 years)</td>    </tr>    <tr>      <th>Surface Temperature:</th>      <td>-87 to -5 °C</td>    </tr>    <tr>      <th>First Record:</th>      <td>2nd millennium BC</td>    </tr>    <tr>      <th>Recorded By:</th>      <td>Egyptian astronomers</td>    </tr>  </tbody></table>'"
      ]
     },
     "execution_count": 277,
     "metadata": {},
     "output_type": "execute_result"
    }
   ],
   "source": [
    "mars_table_html = mars_table_html.replace('\\n', '')\n",
    "mars_table_html"
   ]
  },
  {
   "cell_type": "code",
   "execution_count": 278,
   "metadata": {},
   "outputs": [],
   "source": [
    "mars_table.to_html('table.html')"
   ]
  },
  {
   "cell_type": "markdown",
   "metadata": {},
   "source": [
    "## Mars Hemispheres"
   ]
  },
  {
   "cell_type": "code",
   "execution_count": 279,
   "metadata": {},
   "outputs": [],
   "source": [
    "url = \"https://marshemispheres.com/\"\n",
    "browser.visit(url)"
   ]
  },
  {
   "cell_type": "code",
   "execution_count": 280,
   "metadata": {},
   "outputs": [
    {
     "data": {
      "text/plain": [
       "[{'title': {'Cerberus Hemisphere Enhanced'},\n",
       "  'img_url': {'https://marshemispheres.com/images/f5e372a36edfa389625da6d0cc25d905_cerberus_enhanced.tif_full.jpg'}},\n",
       " {'title': {'Schiaparelli Hemisphere Enhanced'},\n",
       "  'img_url': {'https://marshemispheres.com/images/3778f7b43bbbc89d6e3cfabb3613ba93_schiaparelli_enhanced.tif_full.jpg'}},\n",
       " {'title': {'Syrtis Major Hemisphere Enhanced'},\n",
       "  'img_url': {'https://marshemispheres.com/images/555e6403a6ddd7ba16ddb0e471cadcf7_syrtis_major_enhanced.tif_full.jpg'}},\n",
       " {'title': {'Valles Marineris Hemisphere Enhanced'},\n",
       "  'img_url': {'https://marshemispheres.com/images/b3c7c6c9138f57b4756be9b9c43e3a48_valles_marineris_enhanced.tif_full.jpg'}}]"
      ]
     },
     "execution_count": 280,
     "metadata": {},
     "output_type": "execute_result"
    }
   ],
   "source": [
    "# Save both the image url string for the full resolution hemisphere image, \n",
    "# and the Hemisphere title containing the hemisphere name. Use a Python dictionary to store the data using the keys img_url and title.\n",
    "html = browser.html\n",
    "soup = BeautifulSoup(html, 'html.parser')\n",
    "hemispheres = soup.find_all('div', class_='item')\n",
    "hemisphere_image_urls = []\n",
    "\n",
    "for hemisphere in hemispheres:\n",
    "#     get a list of the Hemisphere titles\n",
    "    title = hemisphere.find('h3').text\n",
    "#     find the link to go to the hemisphere page\n",
    "    hemisphere_link= hemisphere.find('a')['href']\n",
    "#     click to go to hemisphere page\n",
    "    browser.visit(f'https://marshemispheres.com/{hemisphere_link}')\n",
    "    html = browser.html\n",
    "    soup = BeautifulSoup(html, 'html.parser')\n",
    "#     find img url for full resolution image\n",
    "    images = soup.find('img', class_='wide-image')['src']\n",
    "#     add website to image_url\n",
    "    image_urls = 'https://marshemispheres.com/'+ images\n",
    "#     create dictionary with img_urls and titles\n",
    "    hemisphere = {\"title\": {title}, \"img_url\": {image_urls}}\n",
    "#     add dictionary hemisphere_image_urls list\n",
    "    hemisphere_image_urls.append(hemisphere)\n",
    "    browser.back()\n",
    "\n",
    "hemisphere_image_urls "
   ]
  },
  {
   "cell_type": "code",
   "execution_count": null,
   "metadata": {},
   "outputs": [],
   "source": []
  },
  {
   "cell_type": "code",
   "execution_count": null,
   "metadata": {},
   "outputs": [],
   "source": []
  },
  {
   "cell_type": "code",
   "execution_count": null,
   "metadata": {},
   "outputs": [],
   "source": []
  }
 ],
 "metadata": {
  "kernelspec": {
   "display_name": "Python 3",
   "language": "python",
   "name": "python3"
  },
  "language_info": {
   "codemirror_mode": {
    "name": "ipython",
    "version": 3
   },
   "file_extension": ".py",
   "mimetype": "text/x-python",
   "name": "python",
   "nbconvert_exporter": "python",
   "pygments_lexer": "ipython3",
   "version": "3.8.5"
  }
 },
 "nbformat": 4,
 "nbformat_minor": 4
}
