{
 "cells": [
  {
   "cell_type": "markdown",
   "metadata": {},
   "source": [
    "## NASA Mars News"
   ]
  },
  {
   "cell_type": "code",
   "execution_count": 10,
   "metadata": {},
   "outputs": [],
   "source": [
    "# Import dependencies\n",
    "import pandas as pd\n",
    "from splinter import Browser\n",
    "from bs4 import BeautifulSoup\n",
    "from webdriver_manager.chrome import ChromeDriverManager"
   ]
  },
  {
   "cell_type": "code",
   "execution_count": 11,
   "metadata": {},
   "outputs": [
    {
     "name": "stderr",
     "output_type": "stream",
     "text": [
      "\n",
      "\n",
      "====== WebDriver manager ======\n",
      "Current google-chrome version is 90.0.4430\n",
      "Get LATEST driver version for 90.0.4430\n",
      "Driver [/Users/michellesimek/.wdm/drivers/chromedriver/mac64/90.0.4430.24/chromedriver] found in cache\n"
     ]
    }
   ],
   "source": [
    "executable_path = {'executable_path': ChromeDriverManager().install()}\n",
    "browser = Browser('chrome', **executable_path, headless=False)"
   ]
  },
  {
   "cell_type": "code",
   "execution_count": 48,
   "metadata": {},
   "outputs": [],
   "source": [
    "# url to website\n",
    "url = \"https://mars.nasa.gov/news/?page=0&per_page=40&order=publish_date+desc%2Ccreated_at+desc&search=&category=19%2C165%2C184%2C204&blank_scope=Latest\"\n",
    "browser.visit(url)"
   ]
  },
  {
   "cell_type": "code",
   "execution_count": 94,
   "metadata": {},
   "outputs": [
    {
     "name": "stdout",
     "output_type": "stream",
     "text": [
      "NASA's Ingenuity Helicopter to Begin New Demonstration Phase\n",
      "The Red Planet rotorcraft will shift focus from proving flight is possible on Mars to demonstrating flight operations that future aerial craft could utilize.\n",
      "------\n",
      "NASA Sets Briefing to Discuss Ingenuity Mars Helicopter Next Steps\n",
      "With three successful flights in the logbook, Ingenuity has demonstrated it is ready for more.\n",
      "\n",
      "\n",
      "------\n",
      "With Goals Met, NASA to Push Envelope With Ingenuity Mars Helicopter\n",
      "With three successful flights in the logbook, Ingenuity has demonstrated it is ready for more.\n",
      "------\n",
      "NASA's Ingenuity Mars Helicopter Flies Faster, Farther on Third Flight\n",
      "The craft’s April 25 flight was conducted at speeds and distances beyond what had ever been previously demonstrated, even in testing on Earth.\n",
      "------\n",
      "NASA's Ingenuity Mars Helicopter Logs Second Successful Flight\n",
      "The small rotorcraft’s horizons were expanded on its second flight. \n",
      "------\n",
      "NASA's Perseverance Mars Rover Extracts First Oxygen From Red Planet\n",
      "The milestone, which the MOXIE instrument achieved by converting carbon dioxide into oxygen, points the way to future human exploration of the Red Planet. \n",
      "------\n",
      "NASA's Ingenuity Mars Helicopter Succeeds in Historic First Flight\n",
      "The small rotorcraft made history, hovering above Jezero Crater, demonstrating that powered, controlled flight on another planet is possible.\n",
      "------\n",
      "NASA to Attempt First Controlled Flight on Mars As Soon As Monday\n",
      "A livestream will begin at 3:15 a.m. PDT that morning as the helicopter team prepares to receive the data downlink at NASA’s Jet Propulsion Laboratory.\n",
      "------\n",
      "NASA's Mars Helicopter to Make First Flight Attempt\n",
      "The small rotorcraft’s “Wright brothers moment” is two Mars days away.\n",
      "------\n",
      "Webinars--Taking Flight: How Girls Can Grow up to Be Engineers \n",
      "Do you like solving problems, working with other people, and making a difference? Consider a career in engineering!\n",
      "------\n",
      "Say Cheese on Mars: Perseverance's Selfie With Ingenuity\n",
      "NASA’s newest Mars rover used a camera on the end of its robotic arm to snap this shot of itself with the Ingenuity helicopter nearby.\n",
      "------\n",
      "NASA's Odyssey Orbiter Marks 20 Historic Years of Mapping Mars \n",
      "For two decades, the longest-lived spacecraft at the Red Planet has helped locate water ice, assess landing sites, and study the planet’s mysterious moons.\n",
      "\n",
      "------\n",
      "NASA Invites Public to Take Flight With Ingenuity Mars Helicopter \n",
      "The helicopter is scheduled to lift off close to the end of the day on April 11.\n",
      "------\n",
      "NASA's First Weather Report From Jezero Crater on Mars\n",
      "Perseverance’s MEDA will help us understand how to prepare astronauts for a future on the Red Planet.\n",
      "------\n",
      "NASA's Curiosity Team Names Martian Hill That Serves as Mission ‘Gateway'\n",
      "The name honors recently deceased mission scientist Rafael Navarro-González, who helped lead the team that identified ancient organic compounds on Mars\n",
      "------\n",
      "NASA's Mars Helicopter Survives First Cold Martian Night on Its Own\n",
      "NASA’s Ingenuity helicopter can be seen on Mars as viewed by the Perseverance rover’s rear Hazard Camera on April 4, 2021, the 44th Martian day, or sol of the mission.\n",
      "------\n",
      "NASA's InSight Detects Two Sizable Quakes on Mars\n",
      "The magnitude 3.3 and 3.1 temblors originated in a region called Cerberus Fossae, further supporting the idea that this location is seismically active.\n",
      "------\n",
      "Sensors Collect Crucial Data on Mars Landings With Arrival of Perseverance \n",
      "MEDLI2 was one of the crucial technologies onboard the rover’s protective aeroshell that helped document the entry, descent, and landing of the spacecraft. \n",
      "------\n",
      "NASA's Curiosity Mars Rover Takes Selfie With 'Mont Mercou'\n",
      "The rover also snapped a pair of panoramas to create a 3D view of the stark cliff face featured in the selfie.\n",
      "------\n",
      "NASA Ingenuity Mars Helicopter Prepares for First Flight\n",
      "Now uncocooned from its protective carbon-fiber shield, the helicopter is being readied for its next steps.  \n",
      "------\n",
      "Another First: Perseverance Captures the Sounds of Driving on Mars\n",
      "NASA’s newest rover recorded audio of itself crunching over the surface of the Red Planet, adding a whole new dimension to Mars exploration.\n",
      "------\n",
      "NASA to Host Briefing to Preview First Mars Helicopter Flights\n",
      "Members of the projects will lay out the steps necessary before the helicopter attempts its historic test flights. \n",
      "------\n",
      "New Study Challenges Long-Held Theory of Fate of Mars' Water\n",
      "The new science results indicate that a large quantity of the Red Planet’s water is trapped in its crust rather than having escaped into space.\n",
      "------\n",
      "NASA's Perseverance Mars Rover Mission Honors Navajo Language\n",
      "Working with the Navajo Nation, the rover team has named features on Mars with words from the Navajo language.\n",
      "------\n",
      "Perseverance Rover's SuperCam Science Instrument Delivers First Results\n",
      "Data from the powerful science tool includes sounds of its laser zapping a rock in order to test what it’s made of.\n",
      "------\n",
      "NASA's Perseverance Drives on Mars' Terrain for First Time\n",
      "The first trek of the agency’s largest, most advanced rover yet on the Red Planet marks a major milestone before science operations get under way.\n",
      "------\n",
      "Media Telecon Materials - March 5, 2021\n",
      "Mission team members are participating in a virtual teleconference to discuss milestones achieved so far since the Feb. 18 landing and those to come.\n",
      "------\n",
      "NASA Awards Mars Ascent Propulsion System Contract for Sample Return\n",
      "The award moves NASA and ESA a step closer to realizing Mars Sample Return, an ambitious planetary exploration program that will build upon decades of science, knowledge, and experience.\n",
      "------\n",
      "NASA to Provide Update on Perseverance ‘Firsts' Since Mars Landing \n",
      "Mission team members are participating in a virtual teleconference to discuss milestones achieved so far since the Feb. 18 landing and those to come.\n",
      "------\n",
      "Testing Proves Its Worth With Successful Mars Parachute Deployment\n",
      "The giant canopy that helped land Perseverance on Mars was tested here on Earth at NASA’s Wallops Flight Facility in Virginia.\n",
      "------\n",
      "NASA's Perseverance Rover Gives High-Definition Panoramic View of Landing Site\n",
      "A 360-degree panorama taken by the rover’s Mastcam-Z instrument will be discussed during a public video chat this Thursday.\n",
      "------\n",
      "Nearly 11 Million Names of Earthlings are on Mars Perseverance\n",
      "When the Perseverance rover safely touched down on the Martian surface, inside Jezero Crater, on Feb. 18, 2021, it was also a safe landing for the nearly 11 million names on board.\n",
      "------\n",
      "NASA's Mars Perseverance Rover Provides Front-Row Seat to Landing, First Audio Recording of Red Planet \n",
      "The agency’s newest rover captured first-of-its kind footage of its Feb. 18 touchdown and has recorded audio of Martian wind.\n",
      "\n",
      "\n",
      "------\n",
      "NASA to Reveal New Video, Images From Mars Perseverance Rover\n",
      "First-of-its kind footage from the agency’s newest rover will be presented during a briefing this morning.\n",
      "------\n",
      "NASA's Mars Helicopter Reports In \n",
      "The technology demonstration has phoned home from where it is attached to the belly of NASA’s Perseverance rover. \n",
      "------\n",
      "NASA's Perseverance Rover Sends Sneak Peek of Mars Landing\n",
      "The six-wheeled robot’s latest data since touching down yesterday include a hi-res image captured as the rover’s jetpack lowered it to the ground.\n",
      "------\n",
      "Touchdown! NASA's Mars Perseverance Rover Safely Lands on Red Planet\n",
      "The agency’s latest and most complex mission to the Red Planet has touched down at Jezero Crater. Now it’s time to begin testing the health of the rover.  \n",
      "------\n",
      "Searching for Life in NASA's Perseverance Mars Samples\n",
      "When the agency’s newest rover mission searches for fossilized microscopic life on the Red Planet, how will scientists know whether they’ve found it?\n",
      "------\n",
      "The Mars Relay Network Connects Us to NASA's Martian Explorers\n",
      "A tightly choreographed dance between NASA’s Deep Space Network and Mars orbiters will keep the agency’s Perseverance in touch with Earth during landing and beyond.\n",
      "------\n",
      "NASA's Next Mars Rover Is Ready for the Most Precise Landing Yet\n",
      "What to expect when the Mars 2020 Perseverance rover arrives at the Red Planet on Feb. 18, 2021.\n",
      "------\n"
     ]
    }
   ],
   "source": [
    "# Scrape the NASA Mars News Site and collect the latest News Title and Paragraph Text. Assign the text to variables that you can reference later.\n",
    "html = browser.html\n",
    "soup = BeautifulSoup(html, 'html.parser')\n",
    "\n",
    "articles = soup.find_all(\"div\", class_='list_text')\n",
    "\n",
    "for article in articles:\n",
    "    news_title = article.find('div', class_='content_title')\n",
    "    paragraph = article.find('div', class_='article_teaser_body')\n",
    "    print(news_title.text)\n",
    "    print(paragraph.text)\n",
    "    print(\"------\")"
   ]
  },
  {
   "cell_type": "code",
   "execution_count": null,
   "metadata": {},
   "outputs": [],
   "source": []
  },
  {
   "cell_type": "code",
   "execution_count": null,
   "metadata": {},
   "outputs": [],
   "source": []
  },
  {
   "cell_type": "code",
   "execution_count": null,
   "metadata": {},
   "outputs": [],
   "source": []
  }
 ],
 "metadata": {
  "kernelspec": {
   "display_name": "Python 3",
   "language": "python",
   "name": "python3"
  },
  "language_info": {
   "codemirror_mode": {
    "name": "ipython",
    "version": 3
   },
   "file_extension": ".py",
   "mimetype": "text/x-python",
   "name": "python",
   "nbconvert_exporter": "python",
   "pygments_lexer": "ipython3",
   "version": "3.8.5"
  }
 },
 "nbformat": 4,
 "nbformat_minor": 4
}
